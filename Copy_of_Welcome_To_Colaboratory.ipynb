{
  "nbformat": 4,
  "nbformat_minor": 0,
  "metadata": {
    "colab": {
      "name": "Copy of Welcome To Colaboratory",
      "provenance": [],
      "collapsed_sections": [],
      "include_colab_link": true
    },
    "kernelspec": {
      "display_name": "Python 3",
      "name": "python3"
    }
  },
  "cells": [
    {
      "cell_type": "markdown",
      "metadata": {
        "id": "view-in-github",
        "colab_type": "text"
      },
      "source": [
        "<a href=\"https://colab.research.google.com/github/puzzlecollector0418/ASCIIart/blob/master/Copy_of_Welcome_To_Colaboratory.ipynb\" target=\"_parent\"><img src=\"https://colab.research.google.com/assets/colab-badge.svg\" alt=\"Open In Colab\"/></a>"
      ]
    },
    {
      "cell_type": "markdown",
      "metadata": {
        "colab_type": "text",
        "id": "5fCEDCU_qrC0"
      },
      "source": [
        "<p><img alt=\"Colaboratory logo\" height=\"45px\" src=\"/img/colab_favicon.ico\" align=\"left\" hspace=\"10px\" vspace=\"0px\"></p>\n",
        "\n",
        "<h1>Welcome to Colaboratory!</h1>\n",
        "\n",
        "Hey this is Luke Kim! \n",
        "\n",
        "Colaboratory is a free Jupyter notebook environment that requires no setup and runs entirely in the cloud.\n",
        "\n",
        "With Colaboratory you can write and execute code, save and share your analyses, and access powerful computing resources, all for free from your browser."
      ]
    },
    {
      "cell_type": "code",
      "metadata": {
        "id": "zDLv9KiuRkr4",
        "colab_type": "code",
        "colab": {}
      },
      "source": [
        "from sklearn.datasets import load_diabetes \n",
        "diabetes = load_diabetes() "
      ],
      "execution_count": 0,
      "outputs": []
    },
    {
      "cell_type": "code",
      "metadata": {
        "id": "4e0Q8AuyRx_z",
        "colab_type": "code",
        "colab": {}
      },
      "source": [
        "import matplotlib.pyplot as plt \n",
        "import numpy as np "
      ],
      "execution_count": 0,
      "outputs": []
    },
    {
      "cell_type": "code",
      "metadata": {
        "id": "OaUBpwZkSTf1",
        "colab_type": "code",
        "outputId": "a920e7ca-9e20-45ea-d038-0c4087f35b76",
        "colab": {
          "base_uri": "https://localhost:8080/",
          "height": 279
        }
      },
      "source": [
        "plt.scatter(diabetes.data[:,2],diabetes.target) \n",
        "plt.xlabel('x') \n",
        "plt.ylabel('y') \n",
        "plt.show() "
      ],
      "execution_count": 0,
      "outputs": [
        {
          "output_type": "display_data",
          "data": {
            "image/png": "[encoded data removed]",
            "text/plain": [
              "<Figure size 432x288 with 1 Axes>"
            ]
          },
          "metadata": {
            "tags": []
          }
        }
      ]
    },
    {
      "cell_type": "code",
      "metadata": {
        "id": "GlzQLKMJSeTW",
        "colab_type": "code",
        "colab": {}
      },
      "source": [
        "x = diabetes.data[:,2] \n",
        "y = diabetes.target "
      ],
      "execution_count": 0,
      "outputs": []
    },
    {
      "cell_type": "code",
      "metadata": {
        "id": "nBa7ripbR83n",
        "colab_type": "code",
        "outputId": "fd716966-6187-467b-f3c1-1e931736f2b2",
        "colab": {
          "base_uri": "https://localhost:8080/",
          "height": 279
        }
      },
      "source": [
        "class Neuron: \n",
        "  def __init__(self): \n",
        "    self.w = 1.0 \n",
        "    self.b = 1.0 \n",
        "  \n",
        "  def forpass(self,x): \n",
        "    y_hat = x*self.w + self.b \n",
        "    return y_hat \n",
        "\n",
        "  def backprop(self,x,err): \n",
        "    w_grad = x*err \n",
        "    b_grad = 1*err \n",
        "    return w_grad,b_grad \n",
        "  \n",
        "  def fit(self,x,y,epochs=100): \n",
        "    for i in range(epochs): \n",
        "      for x_i,y_i in zip(x,y): \n",
        "        y_hat = self.forpass(x_i) \n",
        "        err = -(y_i-y_hat)\n",
        "        w_grad, b_grad = self.backprop(x_i,err) \n",
        "        self.w -= w_grad\n",
        "        self.b -= b_grad \n",
        "\n",
        "neuron = Neuron() \n",
        "neuron.fit(x,y) \n",
        "plt.scatter(x,y) \n",
        "pt1 = (-0.1,-0.1*neuron.w + neuron.b) \n",
        "pt2 = (0.15,0.15*neuron.w + neuron.b)\n",
        "plt.plot([pt1[0],pt2[0]],[pt1[1],pt2[1]]) \n",
        "plt.xlabel('x')\n",
        "plt.ylabel('y')\n",
        "plt.show() \n",
        "\n"
      ],
      "execution_count": 0,
      "outputs": [
        {
          "output_type": "display_data",
          "data": {
            "image/png": "[encoded data removed]",
            "text/plain": [
              "<Figure size 432x288 with 1 Axes>"
            ]
          },
          "metadata": {
            "tags": []
          }
        }
      ]
    },
    {
      "cell_type": "code",
      "metadata": {
        "id": "tzUFXAiqTc_0",
        "colab_type": "code",
        "colab": {}
      },
      "source": [
        "from sklearn.datasets import load_breast_cancer \n",
        "cancer = load_breast_cancer()  "
      ],
      "execution_count": 0,
      "outputs": []
    },
    {
      "cell_type": "code",
      "metadata": {
        "id": "MafSob2lNFJh",
        "colab_type": "code",
        "colab": {}
      },
      "source": [
        "x = cancer.data\n",
        "y = cancer.target "
      ],
      "execution_count": 0,
      "outputs": []
    },
    {
      "cell_type": "code",
      "metadata": {
        "id": "CPr90sI4NM5P",
        "colab_type": "code",
        "outputId": "dc4aa733-c398-47d3-fb1e-b35e73055a91",
        "colab": {
          "base_uri": "https://localhost:8080/",
          "height": 34
        }
      },
      "source": [
        "from sklearn.model_selection import train_test_split \n",
        "x_train, x_test, y_train, y_test = train_test_split(x,y,stratify = y,test_size = 0.2,random_state=42)\n",
        "print(x_train.shape,x_test.shape)"
      ],
      "execution_count": 0,
      "outputs": [
        {
          "output_type": "stream",
          "text": [
            "(455, 30) (114, 30)\n"
          ],
          "name": "stdout"
        }
      ]
    },
    {
      "cell_type": "code",
      "metadata": {
        "id": "gBHRDqnrOjMD",
        "colab_type": "code",
        "colab": {}
      },
      "source": [
        "import numpy as np\n",
        "class LogisticNeuron:\n",
        "  def __init__(self): \n",
        "    self.w = None \n",
        "    self.b = None \n",
        "\n",
        "  def forpass(self,x): \n",
        "    z = np.sum(x*self.w) + self.b # linear equation \n",
        "    return z \n",
        "\n",
        "  def backprop(self,x,err): \n",
        "    w_grad = x*err \n",
        "    b_grad = 1*err \n",
        "    return w_grad, b_grad \n",
        "\n",
        "  def activation(self,z): \n",
        "    a = 1/(1+np.exp(-z)) \n",
        "    return a \n",
        "  \n",
        "  def fit(self,x,y,epochs=100): \n",
        "    self.w = np.ones(x.shape[1]) \n",
        "    self.b = 0 \n",
        "    for i in range(epochs): \n",
        "      for x_i,y_i in zip(x,y): \n",
        "        z = self.forpass(x_i) \n",
        "        a = self.activation(z) \n",
        "        err = -(y_i-a) \n",
        "        w_grad, b_grad = self.backprop(x_i,err) \n",
        "        self.w -= w_grad \n",
        "        self.b -= b_grad \n",
        "  \n",
        "  def predict(self,x): \n",
        "    z = [self.forpass(x_i) for x_i in x] \n",
        "    a = self.activation(np.array(z)) \n",
        "    return a > 0.5 "
      ],
      "execution_count": 0,
      "outputs": []
    },
    {
      "cell_type": "code",
      "metadata": {
        "id": "71dpLsENTDBH",
        "colab_type": "code",
        "outputId": "ede537a2-e0ee-451f-935f-32c6cc2feca7",
        "colab": {
          "base_uri": "https://localhost:8080/",
          "height": 70
        }
      },
      "source": [
        "neuron = LogisticNeuron() \n",
        "neuron.fit(x_train,y_train) \n",
        "np.mean(neuron.predict(x_test) == y_test)"
      ],
      "execution_count": 0,
      "outputs": [
        {
          "output_type": "stream",
          "text": [
            "/usr/local/lib/python3.6/dist-packages/ipykernel_launcher.py:17: RuntimeWarning: overflow encountered in exp\n"
          ],
          "name": "stderr"
        },
        {
          "output_type": "execute_result",
          "data": {
            "text/plain": [
              "0.8245614035087719"
            ]
          },
          "metadata": {
            "tags": []
          },
          "execution_count": 6
        }
      ]
    },
    {
      "cell_type": "code",
      "metadata": {
        "id": "V_S7F2Uiqs8m",
        "colab_type": "code",
        "colab": {
          "base_uri": "https://localhost:8080/",
          "height": 34
        },
        "outputId": "21f7141c-46a1-4c14-ecb1-76969eea582b"
      },
      "source": [
        "import numpy as np \n",
        "import matplotlib.pyplot as plt \n",
        "from sklearn.datasets import load_breast_cancer \n",
        "from sklearn.model_selection import train_test_split\n",
        "cancer = load_breast_cancer() \n",
        "x = cancer.data \n",
        "y = cancer.target \n",
        "x_train_all, x_test, y_train_all, y_test = train_test_split(x,y,stratify=y,test_size=0.2,random_state=42)\n",
        "x_train, x_val, y_train, y_val = train_test_split(x_train_all,y_train_all,stratify=y_train_all,test_size=0.2,random_state=42) \n",
        "print(x_train.shape,x_val.shape)  "
      ],
      "execution_count": 5,
      "outputs": [
        {
          "output_type": "stream",
          "text": [
            "(364, 30) (91, 30)\n"
          ],
          "name": "stdout"
        }
      ]
    },
    {
      "cell_type": "code",
      "metadata": {
        "id": "f1OZDf7e7Xia",
        "colab_type": "code",
        "colab": {}
      },
      "source": [
        "class SingleLayer: \n",
        "  def __init__(self,learning_rate=0.1,l1=0,l2=0):  \n",
        "    self.w = None \n",
        "    self.b = None \n",
        "    self.losses = [] \n",
        "    self.val_losses = [] \n",
        "    self.w_history = [] \n",
        "    self.lr = learning_rate \n",
        "    self.l1 = l1\n",
        "    self.l2 = l2 \n",
        "  \n",
        "  def forpass(self,x): \n",
        "    z = np.dot(x,self.w) + self.b \n",
        "    return z \n",
        "\n",
        "  def backprop(self,x,err): \n",
        "    m = len(x) \n",
        "    w_grad = np.dot(x.T,err)/m \n",
        "    b_grad = np.sum(err)/m \n",
        "    return w_grad, b_grad \n",
        "\n",
        "  def activation(self,z): \n",
        "    a = 1/(1+np.exp(-z))\n",
        "    return a \n",
        "  \n",
        "  def fit(self,x,y,epochs=100,x_val=None,y_val=None): \n",
        "    y = y.reshape(-1,1) # change to column vector \n",
        "    y_val = y_val.reshape(-1,1) \n",
        "    m = len(x) \n",
        "    self.w = np.ones((x.shape[1],1))\n",
        "    self.b = 0 \n",
        "    self.w_history.append(self.w.copy()) \n",
        "    for i in range(epochs): \n",
        "      z = self.forpass(x)  \n",
        "      a = self.activation(z) \n",
        "      err = -(y-a) \n",
        "      w_grad, b_grad = self.backprop(x,err) \n",
        "      w_grad += (self.l1*np.sign(self.w) + self.l2*self.w)/m  \n",
        "      self.w -= self.lr * w_grad\n",
        "      self.b -= self.lr * b_grad \n",
        "      self.w_history.append(self.w.copy())\n",
        "      a = np.clip(a,1e-10,1-1e-10)\n",
        "      loss = np.sum(-(y*np.log(a) + (1-y)*np.log(1-a)))\n",
        "      self.losses.append((loss+self.reg_loss())/m)\n",
        "      self.update_val_loss(x_val,y_val) \n",
        "  \n",
        "  def predict(self,x): \n",
        "    z = self.forpass(x) \n",
        "    return z > 0 \n",
        "  \n",
        "  def score(self,x,y): \n",
        "    return np.mean(self.predict(x) == y.reshape(-1,1))\n",
        "\n",
        "  def reg_loss(self): \n",
        "    return self.l1*np.sum(np.abs(self.w)) + self.l2/2 * np.sum(self.w**2) \n",
        "\n",
        "  def update_val_loss(self,x_val,y_val): \n",
        "    z = self.forpass(x_val) \n",
        "    a = self.activation(z) \n",
        "    a = np.clip(a,1e-10,1-1e-10) \n",
        "    val_loss = np.sum(-(y_val * np.log(a) + (1-y_val)*np.log(1-a))) \n",
        "    self.val_losses.append((val_loss + self.reg_loss())/len(y_val))\n",
        " "
      ],
      "execution_count": 0,
      "outputs": []
    },
    {
      "cell_type": "code",
      "metadata": {
        "id": "4YqdTQVJB2_y",
        "colab_type": "code",
        "colab": {
          "base_uri": "https://localhost:8080/",
          "height": 34
        },
        "outputId": "055e3c8a-63a4-4290-bd2f-26d268f2c725"
      },
      "source": [
        "import numpy as np \n",
        "import matplotlib.pyplot as plt \n",
        "from sklearn.preprocessing import StandardScaler \n",
        "scaler = StandardScaler() \n",
        "scaler.fit(x_train) \n",
        "x_train_scaled = scaler.transform(x_train)\n",
        "x_val_scaled = scaler.transform(x_val) \n",
        "\n",
        "single_layer = SingleLayer(l2=0.01) \n",
        "single_layer.fit(x_train_scaled,y_train,x_val=x_val_scaled,y_val=y_val,epochs=10000) \n",
        "single_layer.score(x_val_scaled,y_val) \n"
      ],
      "execution_count": 12,
      "outputs": [
        {
          "output_type": "execute_result",
          "data": {
            "text/plain": [
              "0.978021978021978"
            ]
          },
          "metadata": {
            "tags": []
          },
          "execution_count": 12
        }
      ]
    },
    {
      "cell_type": "code",
      "metadata": {
        "id": "EGyMTfw4KgH8",
        "colab_type": "code",
        "colab": {
          "base_uri": "https://localhost:8080/",
          "height": 283
        },
        "outputId": "47ea909c-0487-4d38-bc82-34b958e8d8d4"
      },
      "source": [
        "plt.ylim(0,0.3)\n",
        "plt.plot(single_layer.losses) \n",
        "plt.plot(single_layer.val_losses) \n",
        "plt.ylabel('loss')  \n",
        "plt.xlabel('epoch') \n",
        "plt.legend(['train_loss','val_loss']) \n",
        "plt.show() "
      ],
      "execution_count": 15,
      "outputs": [
        {
          "output_type": "display_data",
          "data": {
            "image/png": "[encoded data removed]",
            "text/plain": [
              "<Figure size 432x288 with 1 Axes>"
            ]
          },
          "metadata": {
            "tags": []
          }
        }
      ]
    },
    {
      "cell_type": "code",
      "metadata": {
        "id": "srR1Rya3NgqM",
        "colab_type": "code",
        "colab": {
          "base_uri": "https://localhost:8080/",
          "height": 279
        },
        "outputId": "f2e375c1-3f3f-4dbf-f9fe-f172c75a5def"
      },
      "source": [
        "w2 = []\n",
        "w3 = [] \n",
        "for w in single_layer.w_history:  \n",
        "  w2.append(w[2]) \n",
        "  w3.append(w[3]) \n",
        "plt.plot(w2,w3) \n",
        "plt.plot(w2[-1],w3[-1],'ro')\n",
        "plt.xlabel('w[2]') \n",
        "plt.ylabel('w[3]') \n",
        "plt.show() "
      ],
      "execution_count": 18,
      "outputs": [
        {
          "output_type": "display_data",
          "data": {
            "image/png": "[encoded data removed]",
            "text/plain": [
              "<Figure size 432x288 with 1 Axes>"
            ]
          },
          "metadata": {
            "tags": []
          }
        }
      ]
    }
  ]
}